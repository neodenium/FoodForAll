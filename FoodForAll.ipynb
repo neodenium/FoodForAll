{
 "cells": [
  {
   "cell_type": "code",
   "execution_count": 0,
   "metadata": {
    "application/vnd.databricks.v1+cell": {
     "cellMetadata": {
      "byteLimit": 2048000,
      "rowLimit": 10000
     },
     "collapsed": true,
     "inputWidgets": {},
     "nuid": "a6f9860b-222a-46df-b50a-90d4fc654195",
     "showTitle": false,
     "tableResultSettingsMap": {},
     "title": ""
    }
   },
   "outputs": [],
   "source": [
    "%pip install -U -q openai mlflow databricks-agents"
   ]
  },
  {
   "cell_type": "code",
   "execution_count": 0,
   "metadata": {
    "application/vnd.databricks.v1+cell": {
     "cellMetadata": {
      "byteLimit": 2048000,
      "rowLimit": 10000
     },
     "collapsed": true,
     "inputWidgets": {},
     "nuid": "69a31b87-2303-4080-a11d-132692758c55",
     "showTitle": false,
     "tableResultSettingsMap": {},
     "title": ""
    }
   },
   "outputs": [],
   "source": [
    "%pip install databricks-genai"
   ]
  },
  {
   "cell_type": "code",
   "execution_count": 0,
   "metadata": {
    "application/vnd.databricks.v1+cell": {
     "cellMetadata": {
      "byteLimit": 2048000,
      "rowLimit": 10000
     },
     "inputWidgets": {},
     "nuid": "53756069-9288-4dd2-a1a3-63e57f903361",
     "showTitle": false,
     "tableResultSettingsMap": {},
     "title": ""
    }
   },
   "outputs": [],
   "source": [
    "pip install databricks-genai-inference"
   ]
  },
  {
   "cell_type": "code",
   "execution_count": 0,
   "metadata": {
    "application/vnd.databricks.v1+cell": {
     "cellMetadata": {
      "byteLimit": 2048000,
      "rowLimit": 10000
     },
     "inputWidgets": {},
     "nuid": "48ee9cdd-2dfe-4fbd-a572-6938c1ee2a83",
     "showTitle": false,
     "tableResultSettingsMap": {},
     "title": ""
    },
    "jupyter": {
     "outputs_hidden": true
    }
   },
   "outputs": [],
   "source": [
    "%pip install geopy"
   ]
  },
  {
   "cell_type": "code",
   "execution_count": 0,
   "metadata": {
    "application/vnd.databricks.v1+cell": {
     "cellMetadata": {
      "byteLimit": 2048000,
      "rowLimit": 10000
     },
     "inputWidgets": {},
     "nuid": "9aabee62-8468-4af1-8f01-1e34b786534b",
     "showTitle": false,
     "tableResultSettingsMap": {},
     "title": ""
    }
   },
   "outputs": [],
   "source": [
    "%restart_python"
   ]
  },
  {
   "cell_type": "code",
   "execution_count": 0,
   "metadata": {
    "application/vnd.databricks.v1+cell": {
     "cellMetadata": {
      "byteLimit": 2048000,
      "rowLimit": 10000
     },
     "inputWidgets": {},
     "nuid": "6ed6d162-95d0-43b5-87af-7cb63604aaf3",
     "showTitle": false,
     "tableResultSettingsMap": {},
     "title": ""
    },
    "jupyter": {
     "outputs_hidden": true
    }
   },
   "outputs": [],
   "source": [
    "### import \n",
    "import pandas as pd\n",
    "import numpy as np\n",
    "import mlflow\n",
    "import json\n",
    "import requests\n",
    "import mlflow\n",
    "from math import radians, sin, cos, sqrt, atan2\n",
    "from geopy.geocoders import Nominatim\n",
    "import requests\n",
    "\n",
    "from openai import OpenAI\n",
    "from databricks.sdk import WorkspaceClient\n",
    "\n",
    "from ipywidgets import widgets"
   ]
  },
  {
   "cell_type": "code",
   "execution_count": 0,
   "metadata": {
    "application/vnd.databricks.v1+cell": {
     "cellMetadata": {
      "byteLimit": 2048000,
      "rowLimit": 10000
     },
     "inputWidgets": {},
     "nuid": "b5dc128f-0029-4ca5-a2ff-756dd9a49ca1",
     "showTitle": false,
     "tableResultSettingsMap": {},
     "title": ""
    }
   },
   "outputs": [],
   "source": [
    "# allow tracing with mlflow\n",
    "mlflow.openai.autolog()\n",
    "\n",
    "# Set the MLflow tracking URI\n",
    "mlflow.set_tracking_uri(\"databricks\")"
   ]
  },
  {
   "cell_type": "code",
   "execution_count": 0,
   "metadata": {
    "application/vnd.databricks.v1+cell": {
     "cellMetadata": {
      "byteLimit": 2048000,
      "rowLimit": 10000
     },
     "inputWidgets": {},
     "nuid": "135a2125-58a8-4aec-adc5-8b71b364e6ff",
     "showTitle": false,
     "tableResultSettingsMap": {},
     "title": ""
    }
   },
   "outputs": [],
   "source": [
    "raw_data = spark.sql('''select `name`, address, category, lat, lon, open_hours_updated, open_website \n",
    "                        from workspace.default.brightint_sanfran_bus''').toPandas()\n",
    "data = raw_data.copy(deep=True)"
   ]
  },
  {
   "cell_type": "code",
   "execution_count": 0,
   "metadata": {
    "application/vnd.databricks.v1+cell": {
     "cellMetadata": {
      "byteLimit": 2048000,
      "rowLimit": 10000
     },
     "inputWidgets": {},
     "nuid": "bce6760d-3b7c-4d2d-8002-2ce6d1e16ee2",
     "showTitle": false,
     "tableResultSettingsMap": {},
     "title": ""
    }
   },
   "outputs": [],
   "source": [
    "data.head()"
   ]
  },
  {
   "cell_type": "markdown",
   "metadata": {
    "application/vnd.databricks.v1+cell": {
     "cellMetadata": {},
     "inputWidgets": {},
     "nuid": "f5b93534-a9c4-4308-a45b-a94d73329065",
     "showTitle": false,
     "tableResultSettingsMap": {},
     "title": ""
    }
   },
   "source": [
    "## Get Just the live URLs"
   ]
  },
  {
   "cell_type": "code",
   "execution_count": 0,
   "metadata": {
    "application/vnd.databricks.v1+cell": {
     "cellMetadata": {
      "byteLimit": 2048000,
      "rowLimit": 10000
     },
     "inputWidgets": {},
     "nuid": "513ef089-cec1-4893-bd8f-101db93d1149",
     "showTitle": false,
     "tableResultSettingsMap": {},
     "title": ""
    }
   },
   "outputs": [],
   "source": [
    "def check_url_live(url):\n",
    "    try:\n",
    "        response = requests.get(url, timeout=10)\n",
    "        response.raise_for_status()  # Check if the URL is live\n",
    "    except requests.RequestException as e:\n",
    "        return False\n",
    "    return True\n",
    "\n",
    "def check_urls_in_dataframe(df, url_column):\n",
    "    df['url_live'] = df[url_column].apply(check_url_live)\n",
    "    return df\n",
    "\n",
    "# Assuming 'data' is your DataFrame and 'open_website' is the column with URLs\n",
    "data_check = check_urls_in_dataframe(data, 'open_website')\n",
    "display(data_check.url_live.value_counts(dropna=False))"
   ]
  },
  {
   "cell_type": "code",
   "execution_count": 0,
   "metadata": {
    "application/vnd.databricks.v1+cell": {
     "cellMetadata": {
      "byteLimit": 2048000,
      "rowLimit": 10000
     },
     "inputWidgets": {},
     "nuid": "52f53eee-91ba-4dcb-9a17-3ce17985a6cc",
     "showTitle": false,
     "tableResultSettingsMap": {},
     "title": ""
    }
   },
   "outputs": [],
   "source": [
    "data = data[data['url_live'] == True]"
   ]
  },
  {
   "cell_type": "markdown",
   "metadata": {
    "application/vnd.databricks.v1+cell": {
     "cellMetadata": {},
     "inputWidgets": {},
     "nuid": "be86445b-c202-4c4e-9b79-2453afdb2be1",
     "showTitle": false,
     "tableResultSettingsMap": {},
     "title": ""
    }
   },
   "source": [
    "## Get stores with prices"
   ]
  },
  {
   "cell_type": "code",
   "execution_count": 0,
   "metadata": {
    "application/vnd.databricks.v1+cell": {
     "cellMetadata": {
      "byteLimit": 2048000,
      "rowLimit": 10000
     },
     "inputWidgets": {},
     "nuid": "fc5e828b-5935-4e6f-852c-3427df2569f4",
     "showTitle": false,
     "tableResultSettingsMap": {},
     "title": ""
    }
   },
   "outputs": [],
   "source": [
    "def check_grocery_store_content(url):\n",
    "    chat_completion = client.chat.completions.create(\n",
    "    messages=[\n",
    "        {\"role\": \"system\", \"content\": \"You are an AI assistant specialized in finding grocery store websites with deals and food prices.\"},\n",
    "        {\"role\": \"user\", \"content\": f\"Check if the following grocery store URL has food items and prices listed: {url}. if it does return True, otherwise return False\"},\n",
    "    ],\n",
    "    model=\"databricks-meta-llama-3-3-70b-instruct\",\n",
    "    max_tokens=2048,\n",
    "    )\n",
    "    return chat_completion.choices[0].message.content.strip()"
   ]
  },
  {
   "cell_type": "code",
   "execution_count": 0,
   "metadata": {
    "application/vnd.databricks.v1+cell": {
     "cellMetadata": {
      "byteLimit": 2048000,
      "rowLimit": 10000
     },
     "inputWidgets": {},
     "nuid": "6c995229-722e-4004-a313-2495666b03b8",
     "showTitle": false,
     "tableResultSettingsMap": {},
     "title": ""
    }
   },
   "outputs": [],
   "source": [
    "def check_urls_in_dataframe_price(df, url_column):\n",
    "    df['has_food_and_prices'] = df[url_column].apply(check_grocery_store_content)\n",
    "    return df\n",
    "\n",
    "# Assuming 'data' is your DataFrame and 'open_website' is the column with URLs\n",
    "data = check_urls_in_dataframe_price(data, 'open_website')"
   ]
  },
  {
   "cell_type": "markdown",
   "metadata": {
    "application/vnd.databricks.v1+cell": {
     "cellMetadata": {},
     "inputWidgets": {},
     "nuid": "df2d6382-6659-4110-8c6e-72745e968d48",
     "showTitle": false,
     "tableResultSettingsMap": {},
     "title": ""
    }
   },
   "source": [
    "## Function Calls"
   ]
  },
  {
   "cell_type": "code",
   "execution_count": 0,
   "metadata": {
    "application/vnd.databricks.v1+cell": {
     "cellMetadata": {
      "byteLimit": 2048000,
      "rowLimit": 10000
     },
     "inputWidgets": {},
     "nuid": "6451561a-8b39-4c98-9b73-ae6951563c7f",
     "showTitle": false,
     "tableResultSettingsMap": {},
     "title": ""
    }
   },
   "outputs": [],
   "source": [
    "def haversine(lat1, lon1, lat2, lon2):\n",
    "    R = 6371.0  # Earth radius in kilometers\n",
    "    lat1, lon1, lat2, lon2 = map(radians, [lat1, lon1, lat2, lon2])\n",
    "    dlat, dlon = lat2 - lat1, lon2 - lon1\n",
    "    a = sin(dlat / 2)**2 + cos(lat1) * cos(lat2) * sin(dlon / 2)**2\n",
    "    return R * 2 * atan2(sqrt(a), sqrt(1 - a))\n",
    "\n",
    "def find_closest_stores(user_lat, user_lon, data):\n",
    "    distances = [(row['name'], row['open_website'], haversine(user_lat, user_lon, row['lat'], row['lon'])) for _, row in data.iterrows()]\n",
    "    return sorted(distances, key=lambda x: x[2])[:2]"
   ]
  },
  {
   "cell_type": "code",
   "execution_count": 0,
   "metadata": {
    "application/vnd.databricks.v1+cell": {
     "cellMetadata": {
      "byteLimit": 2048000,
      "rowLimit": 10000
     },
     "inputWidgets": {},
     "nuid": "86272555-76dc-4f6c-b870-f36a9a4761d4",
     "showTitle": false,
     "tableResultSettingsMap": {},
     "title": ""
    }
   },
   "outputs": [],
   "source": [
    "# Create a temporary token\n",
    "w = WorkspaceClient()\n",
    "tmp_token = w.tokens.create(lifetime_seconds=2400).token_value\n",
    "\n",
    "client = OpenAI(\n",
    "    api_key=tmp_token,\n",
    "    base_url=f\"{w.config.host}/serving-endpoints\",\n",
    ")\n",
    "\n",
    "mlflow.openai.autolog()\n",
    "\n",
    "def build_meal(url1, url2):\n",
    "    # print('CALLING BUILD MEAL')\n",
    "    # print(r, url2)\n",
    "    url1 = str(url1)\n",
    "    url2 = str(url2)\n",
    "    chat_completion = client.chat.completions.create(\n",
    "        messages=[\n",
    "            {\"role\": \"system\", \"content\": \"You are an AI assistant specialized in building affordable meal plans from a given list of food.\"},\n",
    "            {\"role\": \"user\", \"content\": f\"Using the inventory on these websites: {url1}, and {url2}, build a healthy meal based on five items that are discounted or available at a low price that could be used to build a healthy meal. Only provide the recipe including instructions and ingredients, and the total cost at each store. Put the ingredient list at the end in a table format that is easy to read while at the store.\"},\n",
    "        ],\n",
    "        model=\"databricks-meta-llama-3-3-70b-instruct\",\n",
    "        max_tokens=2048,\n",
    "    )"
   ]
  },
  {
   "cell_type": "markdown",
   "metadata": {
    "application/vnd.databricks.v1+cell": {
     "cellMetadata": {},
     "inputWidgets": {},
     "nuid": "47d1065f-fc45-4115-bdee-f5ef48fc788e",
     "showTitle": false,
     "tableResultSettingsMap": {},
     "title": ""
    }
   },
   "source": [
    "## Tool Call"
   ]
  },
  {
   "cell_type": "code",
   "execution_count": 0,
   "metadata": {
    "application/vnd.databricks.v1+cell": {
     "cellMetadata": {
      "byteLimit": 2048000,
      "rowLimit": 10000
     },
     "inputWidgets": {},
     "nuid": "bebe17f6-56d6-44ae-bbb1-0c16bb312053",
     "showTitle": false,
     "tableResultSettingsMap": {},
     "title": ""
    }
   },
   "outputs": [],
   "source": [
    "tools_list = [\n",
    "    {\n",
    "        \"type\": \"function\",\n",
    "        \"function\": {\n",
    "            \"name\": \"find_closest_stores\",\n",
    "            \"description\": \"Retrieves the closest grocery stores to the user and their websites. Use this tool when a user asks about nearby grocery stores.\",\n",
    "            \"parameters\": {\n",
    "                \"type\": \"object\",\n",
    "                \"properties\": {\n",
    "                    \"user_lat\": {\n",
    "                        \"type\": \"string\",\n",
    "                        \"description\": \"The user's latitude.\"\n",
    "                    },\n",
    "                    \"user_lon\": {\n",
    "                        \"type\": \"string\",\n",
    "                        \"description\": \"The user's longitude.\"\n",
    "                    }\n",
    "                },\n",
    "                \"required\": [\"user_lat\", \"user_lon\"]\n",
    "            }\n",
    "        }\n",
    "    },\n",
    "    {\n",
    "        \"type\": \"function\",\n",
    "        \"function\": {\n",
    "            \"name\": \"build_meal\",\n",
    "            \"description\": \"Gets information from multiple grocery store websites to build a meal. Use this tool when a user wants to create a meal.\",\n",
    "            \"parameters\": {\n",
    "                \"type\": \"object\",\n",
    "                \"properties\": {\n",
    "                    \"url1\": {\n",
    "                        \"type\": \"string\",\n",
    "                        \"description\": \"The URL of the website.\"\n",
    "                    }, \n",
    "                    \"url2\": {\n",
    "                        \"type\": \"string\",\n",
    "                        \"description\": \"The URL of the website.\"\n",
    "                    }\n",
    "                },\n",
    "                \"required\": [\"url1\", \"url2\"]\n",
    "            }\n",
    "        }\n",
    "    }\n",
    "]"
   ]
  },
  {
   "cell_type": "code",
   "execution_count": 0,
   "metadata": {
    "application/vnd.databricks.v1+cell": {
     "cellMetadata": {
      "byteLimit": 2048000,
      "rowLimit": 10000
     },
     "inputWidgets": {},
     "nuid": "2579a8ef-f20e-4cc3-b640-10448cdeeb80",
     "showTitle": false,
     "tableResultSettingsMap": {},
     "title": ""
    }
   },
   "outputs": [],
   "source": [
    "def run_tool_loop(user_query, user_lat, user_lon):\n",
    "    # Initialize messages ONCE with system and initial user query\n",
    "    messages = [\n",
    "        {\"role\": \"system\", \"content\": f\"You are an AI assistant.\"},\n",
    "        {\"role\": \"user\", \"content\": user_query},\n",
    "    ]\n",
    "    with mlflow.start_span(span_type=\"CHAIN\") as span:\n",
    "        break_condition = False\n",
    "        while True:\n",
    "            response = client.chat.completions.create(\n",
    "                messages=messages,\n",
    "                model=\"databricks-meta-llama-3-3-70b-instruct\",  # Your specified model\n",
    "                max_tokens=256,\n",
    "                tools=tools_list,\n",
    "                tool_choice=\"auto\",\n",
    "            )\n",
    "            assistant_message = response.choices[0].message\n",
    "            # print('here', assistant_message)\n",
    "            messages.append(assistant_message)  # Add assistant's full response\n",
    "            \n",
    "            if not assistant_message.tool_calls:\n",
    "                break  # No tool call, LLM gave final text answer\n",
    "\n",
    "            # Ensure both functions are called\n",
    "            tool_results = []\n",
    "            for tool_call in assistant_message.tool_calls:\n",
    "                # print(tool_call)\n",
    "                try:\n",
    "                    arguments = json.loads(tool_call.function.arguments)\n",
    "                    # print(arguments)\n",
    "                    if tool_call.function.name == \"find_closest_stores\":\n",
    "                        tool_result_str = str(find_closest_stores(float(user_lat), float(user_lon), data.iloc[[0, 2], :]))\n",
    "                    elif tool_call.function.name == \"build_meal\":\n",
    "                        tool_result_str = str(build_meal(str(arguments[\"url1\"]), str(arguments[\"url2\"])))\n",
    "                        break_condition = True\n",
    "                    else:\n",
    "                        tool_result_str = json.dumps({\"error\": \"Unknown tool function\"})\n",
    "                    tool_results.append(tool_result_str)\n",
    "                except Exception as e:  # Catch-all for any error during arg parsing or tool execution\n",
    "                    tool_result_str = json.dumps({\"error\": f\"Tool execution failed: {str(e)}\"})\n",
    "                    tool_results.append(tool_result_str)\n",
    "\n",
    "            for tool_result_str in tool_results:\n",
    "                messages.append({\n",
    "                    \"role\": \"tool\",\n",
    "                    \"tool_call_id\": tool_call.id,  # Essential\n",
    "                    \"name\": tool_call.function.name,  # Essential\n",
    "                    \"content\": tool_result_str,  # Must be a string\n",
    "                })\n",
    "            if break_condition:\n",
    "                break\n",
    "\n",
    "            # Loop continues: sends messages including tool result back to LLM for summarization\n",
    "\n",
    "    return assistant_message.content"
   ]
  },
  {
   "cell_type": "code",
   "execution_count": 0,
   "metadata": {
    "application/vnd.databricks.v1+cell": {
     "cellMetadata": {},
     "inputWidgets": {},
     "nuid": "ccba41ed-be29-4024-8fd6-c2408e2a3c51",
     "showTitle": false,
     "tableResultSettingsMap": {},
     "title": ""
    }
   },
   "outputs": [],
   "source": [
    "def get_location():\n",
    "    # Get the public IP address\n",
    "    ip_address = requests.get('https://api.ipify.org').text\n",
    "    # Get the location based on the IP address\n",
    "    response = requests.get(f'https://ipapi.co/{ip_address}/json/').json()\n",
    "    latitude = response.get('latitude')\n",
    "    longitude = response.get('longitude')\n",
    "    return latitude, longitude\n",
    "\n",
    "latitude, longitude = get_location()\n",
    "print(f\"Latitude: {latitude}, Longitude: {longitude}\")"
   ]
  },
  {
   "cell_type": "code",
   "execution_count": 0,
   "metadata": {
    "application/vnd.databricks.v1+cell": {
     "cellMetadata": {
      "byteLimit": 2048000,
      "rowLimit": 10000
     },
     "inputWidgets": {},
     "nuid": "4c17fb31-08ef-4492-bff5-74a01ff787ba",
     "showTitle": false,
     "tableResultSettingsMap": {},
     "title": ""
    }
   },
   "outputs": [],
   "source": [
    "# Example call to run_tool_loop\n",
    "user_query = \"Find the closest grocery stores and build a meal for someone with diabetes.\"\n",
    "# user_query = \"Find the closest grocery stores and build a meal for someone with a nut allergy.\"\n",
    "\n",
    "response = run_tool_loop(user_query, latitude, longitude)\n",
    "print(response)"
   ]
  }
 ],
 "metadata": {
  "application/vnd.databricks.v1+notebook": {
   "computePreferences": null,
   "dashboards": [],
   "environmentMetadata": {
    "base_environment": "",
    "environment_version": "2"
   },
   "inputWidgetPreferences": null,
   "language": "python",
   "notebookMetadata": {
    "pythonIndentUnit": 4
   },
   "notebookName": "FoodForAll",
   "widgets": {}
  },
  "language_info": {
   "name": "python"
  }
 },
 "nbformat": 4,
 "nbformat_minor": 0
}
