{
 "cells": [
  {
   "cell_type": "markdown",
   "metadata": {
    "application/vnd.databricks.v1+cell": {
     "cellMetadata": {},
     "inputWidgets": {},
     "nuid": "400fc752-dac3-44ce-8059-df47447c9259",
     "showTitle": false,
     "tableResultSettingsMap": {},
     "title": ""
    }
   },
   "source": [
    "\n",
    "# Developing Agents in Databricks\n",
    "\n",
    "This notebook will give you a quick tour of some of the agent development features you can use in your Databricks workspace. These tools will enable you to quickly prototype, evaluate, and iterate on agents and agentic workflows in Databricks.\n",
    "\n",
    "This notebook will cover:\n",
    "- Model Serving/Foundation Models in Databricks\n",
    "- MLflow Tracing\n",
    "- Agent Evaluations\n",
    "\n",
    "This guide is by no means exhaustive; for more, see the [Databricks docs](https://docs.databricks.com/aws/en/generative-ai/agent-framework/build-genai-apps)."
   ]
  },
  {
   "cell_type": "code",
   "execution_count": 0,
   "metadata": {
    "application/vnd.databricks.v1+cell": {
     "cellMetadata": {
      "byteLimit": 2048000,
      "rowLimit": 10000
     },
     "inputWidgets": {},
     "nuid": "79ea9133-bc50-4be7-b0ff-22776f1ca310",
     "showTitle": false,
     "tableResultSettingsMap": {},
     "title": ""
    }
   },
   "outputs": [],
   "source": [
    "%pip install -U -q openai mlflow databricks-agents\n",
    "%restart_python"
   ]
  },
  {
   "cell_type": "markdown",
   "metadata": {
    "application/vnd.databricks.v1+cell": {
     "cellMetadata": {
      "byteLimit": 2048000,
      "rowLimit": 10000
     },
     "inputWidgets": {},
     "nuid": "a3faa479-57ed-4f40-a2ed-ae03cc328251",
     "showTitle": false,
     "tableResultSettingsMap": {},
     "title": ""
    }
   },
   "source": [
    "## Problem Setup\n",
    "\n",
    "These examples will focus on prototyping a chat application for a delivery-focused restaurant. The application will enable users to ask questions about their outstanding orders and issue simulated API calls to update their orders or escalate their issues to a human.\n",
    "\n",
    "### Raw Data\n",
    "\n",
    "We will be using a small sample of **simulated delivery event data**. Each record captures an event in an order's lifecycle, from creation to delivery. Key columns include:\n",
    "\n",
    "- **event_id:** Unique event identifier.\n",
    "- **event_type:** Type of event (e.g., order_created, driver_ping, delivered).\n",
    "- **ts:** Event timestamp.\n",
    "- **order_id:** Unique order identifier.\n",
    "- **body:** JSON string with detailed information, parsed into dedicated columns like:\n",
    "  - customer_lat, customer_lon, customer_addr, items (from order_created)\n",
    "  - delivered_lat, delivered_lon (from delivered)\n",
    "  - progress_pct, loc_lat, loc_lon (from driver_ping)\n",
    "  - eta_mins (from driver_picked_up)"
   ]
  },
  {
   "cell_type": "code",
   "execution_count": 0,
   "metadata": {
    "application/vnd.databricks.v1+cell": {
     "cellMetadata": {
      "byteLimit": 2048000,
      "rowLimit": 10000
     },
     "inputWidgets": {},
     "nuid": "e1550d30-a905-405b-8eb0-8d4f01e02fe0",
     "showTitle": false,
     "tableResultSettingsMap": {},
     "title": ""
    }
   },
   "outputs": [],
   "source": [
    "raw_data = [\n",
    "    # Completed Order - Really Late (Order ID: 15913d059bcd458aad7e567c3ca533fd)\n",
    "    {\"event_id\": \"0fb437bb36d44b6489528d426d09fdb3\", \"event_type\": \"order_created\", \"ts\": \"2025-05-15T23:59:15.000Z\", \"gk_id\": \"6c47adae5f884d7aa0d7bd500517fe94\", \"order_id\": \"15913d059bcd458aad7e567c3ca533fd\", \"sequence\": 0, \"body\": '{\"customer_lat\": 41.8997961, \"customer_lon\": -87.6625103, \"customer_addr\": \"7561 Main St\", \"items\": [{\"id\": 101, \"name\": \"Tuna Sashimi\", \"price\": 7.5, \"qty\": 2}]}', \"day\": \"2025-05-15\"},\n",
    "    {\"event_id\": \"f8e9aa45e1264c6a80afed082b21291d\", \"event_type\": \"gk_started\", \"ts\": \"2025-05-15T23:59:38.420Z\", \"gk_id\": \"6c47adae5f884d7aa0d7bd500517fe94\", \"order_id\": \"15913d059bcd458aad7e567c3ca533fd\", \"sequence\": 1, \"body\": \"{}\", \"day\": \"2025-05-15\"},\n",
    "    {\"event_id\": \"7dff70ccf63e4c9d95dd7c48588f3f71\", \"event_type\": \"gk_finished\", \"ts\": \"2025-05-16T00:13:49.207Z\", \"gk_id\": \"6c47adae5f884d7aa0d7bd500517fe94\", \"order_id\": \"15913d059bcd458aad7e567c3ca533fd\", \"sequence\": 2, \"body\": \"{}\", \"day\": \"2025-05-16\"},\n",
    "    {\"event_id\": \"bf48e524d12a46e499d48a9d26a5266c\", \"event_type\": \"gk_ready\", \"ts\": \"2025-05-16T00:16:15.067Z\", \"gk_id\": \"6c47adae5f884d7aa0d7bd500517fe94\", \"order_id\": \"15913d059bcd458aad7e567c3ca533fd\", \"sequence\": 3, \"body\": \"{}\", \"day\": \"2025-05-16\"},\n",
    "    {\"event_id\": \"426a44af92be4524a2a3012c4cbfefd2\", \"event_type\": \"driver_picked_up\", \"ts\": \"2025-05-16T00:27:42.399Z\", \"gk_id\": \"6c47adae5f884d7aa0d7bd500517fe94\", \"order_id\": \"15913d059bcd458aad7e567c3ca533fd\", \"sequence\": 4, \"body\": '{\"route_points\": [[41.9045205, -87.6533404], [41.8997961, -87.6625103]], \"eta_mins\": 2.6}', \"day\": \"2025-05-16\"},\n",
    "    {\"event_id\": \"3c3ee480f01e47f3be58c99aa9692d9c\", \"event_type\": \"driver_ping\", \"ts\": \"2025-05-16T00:28:42.399Z\", \"gk_id\": \"6c47adae5f884d7aa0d7bd500517fe94\", \"order_id\": \"15913d059bcd458aad7e567c3ca533fd\", \"sequence\": 5, \"body\": '{\"progress_pct\": 50.0, \"loc_lat\": 41.9030141, \"loc_lon\": -87.6578659}', \"day\": \"2025-05-16\"},\n",
    "    {\"event_id\": \"9eb460e121da4129b193194dd7b52994\", \"event_type\": \"delivered\", \"ts\": \"2025-05-16T00:30:21.142Z\", \"gk_id\": \"6c47adae5f884d7aa0d7bd500517fe94\", \"order_id\": \"15913d059bcd458aad7e567c3ca533fd\", \"sequence\": 6, \"body\": '{\"delivered_lat\": 41.8997961, \"delivered_lon\": -87.6625103}', \"day\": \"2025-05-16\"},\n",
    "\n",
    "    # Completed Order - On Time (Order ID: 07dac347d4e54841b24326bac267c20d)\n",
    "    {\"event_id\": \"7d274c0bc7c14a0eb17c3b334a9f0ba3\", \"event_type\": \"order_created\", \"ts\": \"2025-05-15T23:49:31.000Z\", \"gk_id\": \"6c47adae5f884d7aa0d7bd500517fe94\", \"order_id\": \"07dac347d4e54841b24326bac267c20d\", \"sequence\": 0, \"body\": '{\"customer_lat\": 41.8975713, \"customer_lon\": -87.6868809, \"customer_addr\": \"2038 Main St\", \"items\": [{\"id\": 21, \"name\": \"Keto Bowl\", \"price\": 9.16, \"qty\": 3}]}', \"day\": \"2025-05-15\"},\n",
    "    {\"event_id\": \"8fff3c7a6c7f48d9a80a684ff3969fe9\", \"event_type\": \"gk_started\", \"ts\": \"2025-05-15T23:52:03.827Z\", \"gk_id\": \"6c47adae5f884d7aa0d7bd500517fe94\", \"order_id\": \"07dac347d4e54841b24326bac267c20d\", \"sequence\": 1, \"body\": \"{}\", \"day\": \"2025-05-15\"},\n",
    "    {\"event_id\": \"95b11ebf00894dbab4ec8203a6c15648\", \"event_type\": \"gk_finished\", \"ts\": \"2025-05-16T00:01:58.088Z\", \"gk_id\": \"6c47adae5f884d7aa0d7bd500517fe94\", \"order_id\": \"07dac347d4e54841b24326bac267c20d\", \"sequence\": 2, \"body\": \"{}\", \"day\": \"2025-05-16\"},\n",
    "    {\"event_id\": \"8cf1c8abfb0346ef8a50ac35fc9536f0\", \"event_type\": \"gk_ready\", \"ts\": \"2025-05-16T00:03:57.197Z\", \"gk_id\": \"6c47adae5f884d7aa0d7bd500517fe94\", \"order_id\": \"07dac347d4e54841b24326bac267c20d\", \"sequence\": 3, \"body\": \"{}\", \"day\": \"2025-05-16\"},\n",
    "    {\"event_id\": \"647f74d8eac84f9cafd428db6c105761\", \"event_type\": \"driver_picked_up\", \"ts\": \"2025-05-16T00:11:04.227Z\", \"gk_id\": \"6c47adae5f884d7aa0d7bd500517fe94\", \"order_id\": \"07dac347d4e54841b24326bac267c20d\", \"sequence\": 4, \"body\": '{\"route_points\": [[41.9045205, -87.6533404], [41.8975713, -87.6868809]], \"eta_mins\": 5.4}', \"day\": \"2025-05-16\"},\n",
    "    {\"event_id\": \"afa201852f7f42daa0c4dd4107d0751b\", \"event_type\": \"driver_ping\", \"ts\": \"2025-05-16T00:12:04.227Z\", \"gk_id\": \"6c47adae5f884d7aa0d7bd500517fe94\", \"order_id\": \"07dac347d4e54841b24326bac267c20d\", \"sequence\": 5, \"body\": '{\"progress_pct\": 20.0, \"loc_lat\": 41.9034802, \"loc_lon\": -87.6588746}', \"day\": \"2025-05-16\"},\n",
    "    {\"event_id\": \"b4c2dd62af884839bb36f0c42b9e0abd\", \"event_type\": \"driver_ping\", \"ts\": \"2025-05-16T00:13:04.227Z\", \"gk_id\": \"6c47adae5f884d7aa0d7bd500517fe94\", \"order_id\": \"07dac347d4e54841b24326bac267c20d\", \"sequence\": 6, \"body\": '{\"progress_pct\": 40.0, \"loc_lat\": 41.9033638, \"loc_lon\": -87.6664876}', \"day\": \"2025-05-16\"},\n",
    "    {\"event_id\": \"8315c58a333c44e8a45aa9ca27b6f277\", \"event_type\": \"driver_ping\", \"ts\": \"2025-05-16T00:14:04.227Z\", \"gk_id\": \"6c47adae5f884d7aa0d7bd500517fe94\", \"order_id\": \"07dac347d4e54841b24326bac267c20d\", \"sequence\": 7, \"body\": '{\"progress_pct\": 60.0, \"loc_lat\": 41.9032523, \"loc_lon\": -87.6732925}', \"day\": \"2025-05-16\"},\n",
    "    {\"event_id\": \"a4a5ad8daf984257bfe2a77c849fa5ad\", \"event_type\": \"driver_ping\", \"ts\": \"2025-05-16T00:15:04.227Z\", \"gk_id\": \"6c47adae5f884d7aa0d7bd500517fe94\", \"order_id\": \"07dac347d4e54841b24326bac267c20d\", \"sequence\": 8, \"body\": '{\"progress_pct\": 80.0, \"loc_lat\": 41.9030657, \"loc_lon\": -87.6842046}', \"day\": \"2025-05-16\"},\n",
    "    {\"event_id\": \"7ce7bace386c42a6abb9770f1df1a1b3\", \"event_type\": \"delivered\", \"ts\": \"2025-05-16T00:16:25.371Z\", \"gk_id\": \"6c47adae5f884d7aa0d7bd500517fe94\", \"order_id\": \"07dac347d4e54841b24326bac267c20d\", \"sequence\": 9, \"body\": '{\"delivered_lat\": 41.8975713, \"delivered_lon\": -87.6868809}', \"day\": \"2025-05-16\"},\n",
    "\n",
    "    # In Progress - gk_started (Order ID: 7ff80e031bb645a9b8942cd21ff4f946)\n",
    "    {\"event_id\": \"order_created_7ff80e031bb6\", \"event_type\": \"order_created\", \"ts\": \"2025-05-21T09:00:00.000Z\", \"gk_id\": \"6c47adae5f884d7aa0d7bd500517fe94\", \"order_id\": \"7ff80e031bb645a9b8942cd21ff4f946\", \"sequence\": 0, \"body\": '{\"customer_lat\": 41.9114875, \"customer_lon\": -87.6495344, \"customer_addr\": \"123 Main St\", \"items\": [{\"id\": 1, \"name\": \"Burger\", \"price\": 12.00, \"qty\": 1}]}', \"day\": \"2025-05-21\"},\n",
    "    {\"event_id\": \"gk_started_7ff80e031bb6\", \"event_type\": \"gk_started\", \"ts\": \"2025-05-21T09:05:00.000Z\", \"gk_id\": \"6c47adae5f884d7aa0d7bd500517fe94\", \"order_id\": \"7ff80e031bb645a9b8942cd21ff4f946\", \"sequence\": 1, \"body\": \"{}\", \"day\": \"2025-05-21\"},\n",
    "\n",
    "    # In Progress - Out for Delivery (On Time) (Order ID: dec7915028bf4a5d96f6f31b7ee60b17)\n",
    "    {\"event_id\": \"order_created_dec7915028bf\", \"event_type\": \"order_created\", \"ts\": \"2025-05-21T09:10:00.000Z\", \"gk_id\": \"6c47adae5f884d7aa0d7bd500517fe94\", \"order_id\": \"dec7915028bf4a5d96f6f31b7ee60b17\", \"sequence\": 0, \"body\": '{\"customer_lat\": 41.8867966, \"customer_lon\": -87.6456691, \"customer_addr\": \"456 Oak Ave\", \"items\": [{\"id\": 2, \"name\": \"Pizza\", \"price\": 18.50, \"qty\": 1}]}', \"day\": \"2025-05-21\"},\n",
    "    {\"event_id\": \"gk_started_dec7915028bf\", \"event_type\": \"gk_started\", \"ts\": \"2025-05-21T09:15:00.000Z\", \"gk_id\": \"6c47adae5f884d7aa0d7bd500517fe94\", \"order_id\": \"dec7915028bf4a5d96f6f31b7ee60b17\", \"sequence\": 1, \"body\": \"{}\", \"day\": \"2025-05-21\"},\n",
    "    {\"event_id\": \"gk_finished_dec7915028bf\", \"event_type\": \"gk_finished\", \"ts\": \"2025-05-21T09:20:00.000Z\", \"gk_id\": \"6c47adae5f884d7aa0d7bd500517fe94\", \"order_id\": \"dec7915028bf4a5d96f6f31b7ee60b17\", \"sequence\": 2, \"body\": \"{}\", \"day\": \"2025-05-21\"},\n",
    "    {\"event_id\": \"gk_ready_dec7915028bf\", \"event_type\": \"gk_ready\", \"ts\": \"2025-05-21T09:22:00.000Z\", \"gk_id\": \"6c47adae5f884d7aa0d7bd500517fe94\", \"order_id\": \"dec7915028bf4a5d96f6f31b7ee60b17\", \"sequence\": 3, \"body\": \"{}\", \"day\": \"2025-05-21\"},\n",
    "    {\"event_id\": \"driver_picked_up_dec7915028bf\", \"event_type\": \"driver_picked_up\", \"ts\": \"2025-05-21T09:25:00.000Z\", \"gk_id\": \"6c47adae5f884d7aa0d7bd500517fe94\", \"order_id\": \"dec7915028bf4a5d96f6f31b7ee60b17\", \"sequence\": 4, \"body\": '{\"route_points\": [[41.9045205, -87.6533404], [41.8867966, -87.6456691]], \"eta_mins\": 5.0}', \"day\": \"2025-05-21\"},\n",
    "    {\"event_id\": \"driver_ping_dec7915028bf_1\", \"event_type\": \"driver_ping\", \"ts\": \"2025-05-21T09:26:30.000Z\", \"gk_id\": \"6c47adae5f884d7aa0d7bd500517fe94\", \"order_id\": \"dec7915028bf4a5d96f6f31b7ee60b17\", \"sequence\": 5, \"body\": '{\"progress_pct\": 30.0, \"loc_lat\": 41.8980000, \"loc_lon\": -87.6470000}', \"day\": \"2025-05-21\"},\n",
    "    {\"event_id\": \"driver_ping_dec7915028bf_2\", \"event_type\": \"driver_ping\", \"ts\": \"2025-05-21T09:28:00.000Z\", \"gk_id\": \"6c47adae5f884d7aa0d7bd500517fe94\", \"order_id\": \"dec7915028bf4a5d96f6f31b7ee60b17\", \"sequence\": 6, \"body\": '{\"progress_pct\": 60.0, \"loc_lat\": 41.8900000, \"loc_lon\": -87.6460000}', \"day\": \"2025-05-21\"},\n",
    "\n",
    "    # In Progress - Out for Delivery (Running Late) (Order ID: 34af35a043334a24b836f6dc1a6e5c2b)\n",
    "    {\"event_id\": \"order_created_34af35a04333\", \"event_type\": \"order_created\", \"ts\": \"2025-05-21T08:50:00.000Z\", \"gk_id\": \"6c47adae5f884d7aa0d7bd500517fe94\", \"order_id\": \"34af35a043334a24b836f6dc1a6e5c2b\", \"sequence\": 0, \"body\": '{\"customer_lat\": 41.9288242, \"customer_lon\": -87.6658665, \"customer_addr\": \"789 Pine Rd\", \"items\": [{\"id\": 3, \"name\": \"Sushi Set\", \"price\": 25.00, \"qty\": 1}]}', \"day\": \"2025-05-21\"},\n",
    "    {\"event_id\": \"gk_started_34af35a04333\", \"event_type\": \"gk_started\", \"ts\": \"2025-05-21T08:55:00.000Z\", \"gk_id\": \"6c47adae5f884d7aa0d7bd500517fe94\", \"order_id\": \"34af35a043334a24b836f6dc1a6e5c2b\", \"sequence\": 1, \"body\": \"{}\", \"day\": \"2025-05-21\"},\n",
    "    {\"event_id\": \"gk_finished_34af35a04333\", \"event_type\": \"gk_finished\", \"ts\": \"2025-05-21T09:00:00.000Z\", \"gk_id\": \"6c47adae5f884d7aa0d7bd500517fe94\", \"order_id\": \"34af35a043334a24b836f6dc1a6e5c2b\", \"sequence\": 2, \"body\": \"{}\", \"day\": \"2025-05-21\"},\n",
    "    {\"event_id\": \"gk_ready_34af35a04333\", \"event_type\": \"gk_ready\", \"ts\": \"2025-05-21T09:02:00.000Z\", \"gk_id\": \"6c47adae5f884d7aa0d7bd500517fe94\", \"order_id\": \"34af35a043334a24b836f6dc1a6e5c2b\", \"sequence\": 3, \"body\": \"{}\", \"day\": \"2025-05-21\"},\n",
    "    {\"event_id\": \"driver_picked_up_34af35a04333\", \"event_type\": \"driver_picked_up\", \"ts\": \"2025-05-21T09:05:00.000Z\", \"gk_id\": \"6c47adae5f884d7aa0d7bd500517fe94\", \"order_id\": \"34af35a043334a24b836f6dc1a6e5c2b\", \"sequence\": 4, \"body\": '{\"route_points\": [[41.9045205, -87.6533404], [41.9288242, -87.6658665]], \"eta_mins\": 5.0}', \"day\": \"2025-05-21\"},\n",
    "    {\"event_id\": \"driver_ping_34af35a04333_1\", \"event_type\": \"driver_ping\", \"ts\": \"2025-05-21T09:06:30.000Z\", \"gk_id\": \"6c47adae5f884d7aa0d7bd500517fe94\", \"order_id\": \"34af35a043334a24b836f6dc1a6e5c2b\", \"sequence\": 5, \"body\": '{\"progress_pct\": 20.0, \"loc_lat\": 41.9100000, \"loc_lon\": -87.6600000}', \"day\": \"2025-05-21\"},\n",
    "    {\"event_id\": \"driver_ping_34af35a04333_2\", \"event_type\": \"driver_ping\", \"ts\": \"2025-05-21T09:08:00.000Z\", \"gk_id\": \"6c47adae5f884d7aa0d7bd500517fe94\", \"order_id\": \"34af35a043334a24b836f6dc1a6e5c2b\", \"sequence\": 6, \"body\": '{\"progress_pct\": 40.0, \"loc_lat\": 41.9180000, \"loc_lon\": -87.6620000}', \"day\": \"2025-05-21\"},\n",
    "\n",
    "    # In Progress - Order Created (Order ID: e5ab1bc493ea4f7a98accd29301d713b)\n",
    "    {\"event_id\": \"order_created_e5ab1bc493ea\", \"event_type\": \"order_created\", \"ts\": \"2025-05-21T09:25:00.000Z\", \"gk_id\": \"6c47adae5f884d7aa0d7bd500517fe94\", \"order_id\": \"e5ab1bc493ea4f7a98accd29301d713b\", \"sequence\": 0, \"body\": '{\"customer_lat\": 41.8990524, \"customer_lon\": -87.6478849, \"customer_addr\": \"999 Maple Dr\", \"items\": [{\"id\": 4, \"name\": \"Salad\", \"price\": 9.00, \"qty\": 2}]}', \"day\": \"2025-05-21\"},\n",
    "]"
   ]
  },
  {
   "cell_type": "markdown",
   "metadata": {
    "application/vnd.databricks.v1+cell": {
     "cellMetadata": {
      "byteLimit": 2048000,
      "rowLimit": 10000
     },
     "inputWidgets": {},
     "nuid": "0fb7c54e-8860-48de-86d4-bb503ec943b2",
     "showTitle": false,
     "tableResultSettingsMap": {},
     "title": ""
    }
   },
   "source": [
    "\n",
    "## Data Preprocessing\n",
    "For almost any use case, you will want to do some preprocessing and cleaning to make the data suitable for your application. In this simple example, we really only need to current state of each order, not the whole sequence of events. Let's create a table showing the key details and current state of each order."
   ]
  },
  {
   "cell_type": "code",
   "execution_count": 0,
   "metadata": {
    "application/vnd.databricks.v1+cell": {
     "cellMetadata": {
      "byteLimit": 2048000,
      "rowLimit": 10000
     },
     "inputWidgets": {},
     "nuid": "f48175cc-b1d3-4d8d-863c-85acd297f1ce",
     "showTitle": false,
     "tableResultSettingsMap": {},
     "title": ""
    }
   },
   "outputs": [],
   "source": [
    "import pandas as pd\n",
    "import json\n",
    "\n",
    "df = pd.DataFrame(raw_data)\n",
    "\n",
    "# Parse the 'body' column (it's a JSON string)\n",
    "df['body_parsed'] = df['body'].apply(json.loads)\n",
    "\n",
    "# Sort by order_id and sequence to easily get the latest event\n",
    "df = df.sort_values(['order_id', 'sequence'])\n",
    "\n",
    "# Group by order_id and aggregate\n",
    "condensed_df = df.groupby('order_id').agg(\n",
    "    # Extract order details from the first event (order_created)\n",
    "    customer_lat=('body_parsed', lambda x: x.iloc[0].get('customer_lat')),\n",
    "    customer_lon=('body_parsed', lambda x: x.iloc[0].get('customer_lon')),\n",
    "    customer_addr=('body_parsed', lambda x: x.iloc[0].get('customer_addr')),\n",
    "    items=('body_parsed', lambda x: x.iloc[0].get('items')),\n",
    "\n",
    "    # Extract eta_mins from driver_picked_up event if it exists\n",
    "    eta_mins=('body_parsed', lambda x: next((item.get('eta_mins') for item in x if 'eta_mins' in item), None)),\n",
    "\n",
    "    # Extract the latest ping event's progress_pct\n",
    "    progress_pct=('body_parsed', lambda x: next((item.get('progress_pct') for item in reversed(list(x)) if isinstance(item, dict) and 'progress_pct' in item), None)),\n",
    "\n",
    "    # Get the latest status (event_type) and its timestamp\n",
    "    latest_status=('event_type', 'last'),\n",
    "    latest_ts=('ts', 'last')\n",
    ").reset_index()\n",
    "\n",
    "display(condensed_df)"
   ]
  },
  {
   "cell_type": "markdown",
   "metadata": {
    "application/vnd.databricks.v1+cell": {
     "cellMetadata": {
      "byteLimit": 2048000,
      "rowLimit": 10000
     },
     "inputWidgets": {},
     "nuid": "e30e3079-ff4c-4deb-a5fb-fa5b9f59d570",
     "showTitle": false,
     "tableResultSettingsMap": {},
     "title": ""
    }
   },
   "source": [
    "Now we have some sample data we can easily access and use with AI models and tools. "
   ]
  },
  {
   "cell_type": "markdown",
   "metadata": {
    "application/vnd.databricks.v1+cell": {
     "cellMetadata": {
      "byteLimit": 2048000,
      "rowLimit": 10000
     },
     "inputWidgets": {},
     "nuid": "82e02de7-8c89-4cd5-ab67-1e45935aa384",
     "showTitle": false,
     "tableResultSettingsMap": {},
     "title": ""
    }
   },
   "source": [
    "## Using AI Models from Databricks Model Serving\n",
    "\n",
    "You have access to a range of state of the art models via Databricks model serving. You can use them in Databricks notebooks via the OpenAI Python SDK. Here we will use the `databricks-meta-llama-3-3-70b-instruct` model. You do not need to get or configure an API key though you will need to set up a Databricks token.\n",
    "\n",
    "Note that, to use the Anthropic Claude models accessible via model serving, you will need to add your credit card information to your Databricks account using the \"manage trial\" link in the top right corner of the Databricks UI. You will not be charged for usage until after you consume your trial credits or your trial credits expire.\n",
    "\n",
    "See the [Agent Library Integrations](2025_agent_hackathon_resources/databricks_agent_library_integrations.ipynb) notebook for more guidance on which models to use, compatibility notes, etc."
   ]
  },
  {
   "cell_type": "code",
   "execution_count": 0,
   "metadata": {
    "application/vnd.databricks.v1+cell": {
     "cellMetadata": {
      "byteLimit": 2048000,
      "rowLimit": 10000
     },
     "inputWidgets": {},
     "nuid": "42feef4a-baa2-42aa-895e-ac2e1585f5a6",
     "showTitle": false,
     "tableResultSettingsMap": {},
     "title": ""
    }
   },
   "outputs": [],
   "source": [
    "from openai import OpenAI\n",
    "from databricks.sdk import WorkspaceClient\n",
    "\n",
    "# Create a temporary token\n",
    "w = WorkspaceClient()\n",
    "tmp_token = w.tokens.create(lifetime_seconds=2400).token_value\n",
    "\n",
    "\n",
    "\n",
    "client = OpenAI(\n",
    "    api_key=tmp_token,\n",
    "    base_url=f\"{w.config.host}/serving-endpoints\",\n",
    ")\n",
    "\n",
    "chat_completion = client.chat.completions.create(\n",
    "    messages=[\n",
    "        {\"role\": \"system\", \"content\": \"You are an AI assistant\"},\n",
    "        {\"role\": \"user\", \"content\": \"Tell me about Large Language Models\"},\n",
    "    ],\n",
    "    model=\"databricks-meta-llama-3-3-70b-instruct\",\n",
    "    max_tokens=256,\n",
    ")"
   ]
  },
  {
   "cell_type": "markdown",
   "metadata": {
    "application/vnd.databricks.v1+cell": {
     "cellMetadata": {},
     "inputWidgets": {},
     "nuid": "0b03b2f1-20ab-43e8-aede-28bdf357dd5f",
     "showTitle": false,
     "tableResultSettingsMap": {},
     "title": ""
    }
   },
   "source": [
    "Note that you can also configure [external models](https://docs.databricks.com/aws/en/generative-ai/external-models/) if you want to use models from other providers with your own API keys."
   ]
  },
  {
   "cell_type": "markdown",
   "metadata": {
    "application/vnd.databricks.v1+cell": {
     "cellMetadata": {
      "byteLimit": 2048000,
      "rowLimit": 10000
     },
     "inputWidgets": {},
     "nuid": "40065d52-6bab-47ba-a481-c57d7303e122",
     "showTitle": false,
     "tableResultSettingsMap": {},
     "title": ""
    }
   },
   "source": [
    "## Tracing for Agent Observability\n",
    "\n",
    "[MLflow tracing](https://docs.databricks.com/aws/en/mlflow/mlflow-tracing) gives you complete observability into your agentic workflows, captuting execution information on each workflow step, including LLM responses, tool calls, retrieval steps, and more.\n",
    "\n",
    "You can enable tracing for many common GenAI providers and agent frameworks with one line of code: `mlflow.<library>.autolog()`. In this case, as we are using the OpenAI SDK (even though we are using a Meta Llama model), we will use `mlflow.openai.autolog()`"
   ]
  },
  {
   "cell_type": "code",
   "execution_count": 0,
   "metadata": {
    "application/vnd.databricks.v1+cell": {
     "cellMetadata": {
      "byteLimit": 2048000,
      "rowLimit": 10000
     },
     "inputWidgets": {},
     "nuid": "86a85e2e-eadc-4dcc-9e63-9ab6f9d3bdb4",
     "showTitle": false,
     "tableResultSettingsMap": {},
     "title": ""
    }
   },
   "outputs": [],
   "source": [
    "import mlflow\n",
    "\n",
    "mlflow.openai.autolog()\n",
    "\n",
    "chat_completion = client.chat.completions.create(\n",
    "    messages=[\n",
    "        {\"role\": \"system\", \"content\": \"You are an AI assistant\"},\n",
    "        {\"role\": \"user\", \"content\": \"Tell me about Large Language Models\"},\n",
    "    ],\n",
    "    model=\"databricks-meta-llama-3-3-70b-instruct\",\n",
    "    max_tokens=256,\n",
    ")"
   ]
  },
  {
   "cell_type": "markdown",
   "metadata": {
    "application/vnd.databricks.v1+cell": {
     "cellMetadata": {
      "byteLimit": 2048000,
      "rowLimit": 10000
     },
     "inputWidgets": {},
     "nuid": "f39658ed-4846-46d1-b580-94ea8ade3551",
     "showTitle": false,
     "tableResultSettingsMap": {},
     "title": ""
    }
   },
   "source": [
    "\n",
    "You can view these traces right in the notebook. They will also be collected for downstream review and analysis; you can find them in the Experiments tab."
   ]
  },
  {
   "cell_type": "markdown",
   "metadata": {
    "application/vnd.databricks.v1+cell": {
     "cellMetadata": {
      "byteLimit": 2048000,
      "rowLimit": 10000
     },
     "inputWidgets": {},
     "nuid": "6c6e3ffa-d540-42e9-9874-485587964d18",
     "showTitle": false,
     "tableResultSettingsMap": {},
     "title": ""
    }
   },
   "source": [
    "## Add a Tool Call\n",
    "\n",
    "Now let's create a tool for checking on the order status. In a real-world application, such a customer support chat would take place in the context of user logged into the app, so the model would already have access to the user's order and would not provide information about other users."
   ]
  },
  {
   "cell_type": "code",
   "execution_count": 0,
   "metadata": {
    "application/vnd.databricks.v1+cell": {
     "cellMetadata": {
      "byteLimit": 2048000,
      "rowLimit": 10000
     },
     "inputWidgets": {},
     "nuid": "1d0fdbc4-db0f-4d70-b02f-5c7af2036431",
     "showTitle": false,
     "tableResultSettingsMap": {},
     "title": ""
    }
   },
   "outputs": [],
   "source": [
    "tools_list = [\n",
    "    {\n",
    "        \"type\": \"function\",\n",
    "        \"function\": {\n",
    "            \"name\": \"get_user_order_status\",\n",
    "            \"description\": \"Retrieves the current status and details of all orders for a specified user ID. Use this tool when a user asks about their orders.\",\n",
    "            \"parameters\": {\n",
    "                \"type\": \"object\",\n",
    "                \"properties\": {\n",
    "                    \"user_id\": {\n",
    "                        \"type\": \"string\",\n",
    "                        \"description\": \"The unique identifier of the user whose orders are to be fetched (e.g., 'user_alice', 'user_bob').\",\n",
    "                    }\n",
    "                },\n",
    "                \"required\": [\"user_id\"],\n",
    "            },\n",
    "        },\n",
    "    }\n",
    "]"
   ]
  },
  {
   "cell_type": "markdown",
   "metadata": {
    "application/vnd.databricks.v1+cell": {
     "cellMetadata": {
      "byteLimit": 2048000,
      "rowLimit": 10000
     },
     "inputWidgets": {},
     "nuid": "e1a26270-1a30-4840-8ac1-30cc0c3e749f",
     "showTitle": false,
     "tableResultSettingsMap": {},
     "title": ""
    }
   },
   "source": [
    "### Define a tool-calling loop\n",
    "\n",
    "Here we will define a simple loop that takes the user's question, calls the tool if needed, reviews the results of the tool call, and responds to the user.\n",
    "\n",
    "While we implement this manually, you can also use agent frameworks such as LlamaIndex, LangGraph, SmolAgents, or CrewAI.\n",
    "\n",
    "First, let's map the orders to sample user IDs. We will use these to simulate being logged in to a delivery app. The chatbot will only be able to access information about the selected/\"logged-in\" user."
   ]
  },
  {
   "cell_type": "code",
   "execution_count": 0,
   "metadata": {
    "application/vnd.databricks.v1+cell": {
     "cellMetadata": {
      "byteLimit": 2048000,
      "rowLimit": 10000
     },
     "inputWidgets": {},
     "nuid": "ab5faf5c-6346-42db-9098-36530e6345ed",
     "showTitle": false,
     "tableResultSettingsMap": {},
     "title": ""
    }
   },
   "outputs": [],
   "source": [
    "from ipywidgets import widgets\n",
    "\n",
    "user_order_mapping = {\n",
    "    \"user_alice\": [\"07dac347d4e54841b24326bac267c20d\", \"15913d059bcd458aad7e567c3ca533fd\"],\n",
    "    \"user_bob\": [\"34af35a043334a24b836f6dc1a6e5c2b\"],\n",
    "    \"user_charlie\": [\"7ff80e031bb645a9b8942cd21ff4f946\", \"dec7915028bf4a5d96f6f31b7ee60b17\", \"e5ab1bc493ea4f7a98accd29301d713b\"]\n",
    "}\n",
    "\n",
    "user_dropdown = widgets.Dropdown(\n",
    "    options=list(user_order_mapping.keys()),\n",
    "    description='Select User:',\n",
    "    disabled=False,\n",
    ")\n",
    "\n",
    "def on_user_change(change):\n",
    "    global selected_user_id_global\n",
    "    if change['type'] == 'change' and change['name'] == 'value':\n",
    "        selected_user_id_global = change['new']\n",
    "\n",
    "user_dropdown.observe(on_user_change)\n",
    "display(user_dropdown)\n"
   ]
  },
  {
   "cell_type": "markdown",
   "metadata": {
    "application/vnd.databricks.v1+cell": {
     "cellMetadata": {},
     "inputWidgets": {},
     "nuid": "715fc5b8-0926-4b46-b046-4e624f7267d3",
     "showTitle": false,
     "tableResultSettingsMap": {},
     "title": ""
    }
   },
   "source": [
    "\n",
    "Next, we'll write the `order_status` python function corresponding to the tool call spec we defined above. Note that we are using the `@mlflow.trace` decorator to make sure this function is traced."
   ]
  },
  {
   "cell_type": "code",
   "execution_count": 0,
   "metadata": {
    "application/vnd.databricks.v1+cell": {
     "cellMetadata": {
      "byteLimit": 2048000,
      "rowLimit": 10000
     },
     "inputWidgets": {},
     "nuid": "468e834e-546c-4da1-969e-dca35ee65784",
     "showTitle": false,
     "tableResultSettingsMap": {},
     "title": ""
    }
   },
   "outputs": [],
   "source": [
    "@mlflow.trace(span_type=\"TOOL\")\n",
    "def order_status(user_id):\n",
    "    user_orders = user_order_mapping.get(user_id)\n",
    "\n",
    "    if user_orders:\n",
    "        order_status = []\n",
    "        for order_id in user_orders:\n",
    "            order = condensed_df[condensed_df['order_id'] == order_id].iloc[0]\n",
    "            order_status.append(order.to_dict())\n",
    "        return order_status\n",
    "    else:\n",
    "        return \"No orders found for the specified user.\""
   ]
  },
  {
   "cell_type": "markdown",
   "metadata": {
    "application/vnd.databricks.v1+cell": {
     "cellMetadata": {},
     "inputWidgets": {},
     "nuid": "6745c28a-efc8-4c23-9052-260efb2073df",
     "showTitle": false,
     "tableResultSettingsMap": {},
     "title": ""
    }
   },
   "source": [
    "Lastly, we define the tool calling loop itself. This loop takes a user's query and the user ID as arguments and returns the assistant's final answer."
   ]
  },
  {
   "cell_type": "code",
   "execution_count": 0,
   "metadata": {
    "application/vnd.databricks.v1+cell": {
     "cellMetadata": {
      "byteLimit": 2048000,
      "rowLimit": 10000
     },
     "inputWidgets": {},
     "nuid": "e56f385c-4d80-440b-8b5c-0779986b89d0",
     "showTitle": false,
     "tableResultSettingsMap": {},
     "title": ""
    }
   },
   "outputs": [],
   "source": [
    "def run_tool_loop(user_query, user_context_id):\n",
    "    # Initialize messages ONCE with system and initial user query\n",
    "    messages = [\n",
    "        {\"role\": \"system\", \"content\": f\"You are an AI assistant for user {user_context_id}.\"},\n",
    "        {\"role\": \"user\", \"content\": user_query},\n",
    "    ]\n",
    "    with mlflow.start_span(span_type=\"CHAIN\") as span:\n",
    "        while True:\n",
    "            response = client.chat.completions.create(\n",
    "                messages=messages,\n",
    "                model=\"databricks-meta-llama-3-3-70b-instruct\", # Your specified model\n",
    "                max_tokens=256, \n",
    "                tools=tools_list,\n",
    "                tool_choice=\"auto\",\n",
    "            )\n",
    "            assistant_message = response.choices[0].message\n",
    "            messages.append(assistant_message) # Add assistant's full response\n",
    "\n",
    "            if not assistant_message.tool_calls:\n",
    "                break # No tool call, LLM gave final text answer\n",
    "\n",
    "            tool_call = assistant_message.tool_calls[0]\n",
    "            \n",
    "            try:\n",
    "                arguments = json.loads(tool_call.function.arguments)\n",
    "                user_id_for_tool = arguments.get(\"user_id\", user_context_id)\n",
    "                tool_result_str = str(order_status(user_id_for_tool))\n",
    "            except Exception as e: # Catch-all for any error during arg parsing or tool execution\n",
    "                tool_result_str = json.dumps({\"error\": f\"Tool execution failed: {str(e)}\"})\n",
    "\n",
    "            messages.append({\n",
    "                \"role\": \"tool\",\n",
    "                \"tool_call_id\": tool_call.id, # Essential\n",
    "                \"name\": tool_call.function.name, # Essential\n",
    "                \"content\": tool_result_str, # Must be a string\n",
    "            })\n",
    "            # Loop continues: sends messages including tool result back to LLM for summarization\n",
    "\n",
    "    return assistant_message.content"
   ]
  },
  {
   "cell_type": "code",
   "execution_count": 0,
   "metadata": {
    "application/vnd.databricks.v1+cell": {
     "cellMetadata": {
      "byteLimit": 2048000,
      "rowLimit": 10000
     },
     "inputWidgets": {},
     "nuid": "ca699fa4-fba5-42a5-be09-224752c5a630",
     "showTitle": false,
     "tableResultSettingsMap": {},
     "title": ""
    }
   },
   "outputs": [],
   "source": [
    "response = run_tool_loop(\"What is the status of my order\", user_dropdown.value)"
   ]
  },
  {
   "cell_type": "markdown",
   "metadata": {
    "application/vnd.databricks.v1+cell": {
     "cellMetadata": {
      "byteLimit": 2048000,
      "rowLimit": 10000
     },
     "inputWidgets": {},
     "nuid": "076b32a0-4933-4ba5-b09b-7060b3d2877e",
     "showTitle": false,
     "tableResultSettingsMap": {},
     "title": ""
    }
   },
   "source": [
    "## Evaluate our Agent\n",
    "\n",
    "We can use the `databricks-agents` sdk along with MLflow Evaluations to evaluate our agents. We can define a set of natural language guidelines to specify how we want our agent system to respond."
   ]
  },
  {
   "cell_type": "code",
   "execution_count": 0,
   "metadata": {
    "application/vnd.databricks.v1+cell": {
     "cellMetadata": {
      "byteLimit": 2048000,
      "rowLimit": 10000
     },
     "inputWidgets": {},
     "nuid": "6792d5f5-bc92-455e-8ea5-102e76eaff36",
     "showTitle": false,
     "tableResultSettingsMap": {},
     "title": ""
    }
   },
   "outputs": [],
   "source": [
    "global_guidelines = {\n",
    "    \"brevity_and_minimalism\": [\n",
    "        \"When a user asks for a general order status, the response must provide only a very brief, high-level summary (e.g., 'Your order is on its way,' 'It has been delivered,' or 'There appears to be an issue with your order'). The response must avoid volunteering additional specific details like order IDs, item lists, precise timestamps, ETA, or progress percentages unless the user explicitly asks for these further details.\"\n",
    "    ],\n",
    "    \"clarity_and_friendliness\": [\n",
    "        \"The agent's responses must be phrased in clear, simple language that is easy for any user to understand, and it must consistently maintain a polite, empathetic, and friendly tone throughout the interaction.\"\n",
    "    ],\n",
    "    \"proactive_problem_guidance\": [\n",
    "        \"If an order status retrieved by the tool indicates a clear problem, delay, or failure (e.g., 'delivery_attempt_failed', 'on_hold_pending_user_action', 'payment_declined'), the agent's response must include at least one concrete, actionable suggestion or piece of guidance for the user (e.g., 'You might want to contact support at [number/email],' or 'You can try to reschedule by visiting [link/platform section]'). Simply stating the problem without offering a path forward is insufficient.\"\n",
    "    ],\n",
    "    \"scope_and_relevance_management\": [\n",
    "        \"The agent must primarily address inquiries related to order status, order details, and closely related logistics. If the user's request is clearly and significantly outside this defined scope (e.g., asking for weather forecasts, general knowledge, or to perform unrelated tasks), the response must politely state its functional limitations and avoid attempting to answer the unrelated query.\"\n",
    "    ],\n",
    "    \"honesty_about_capabilities\": [\n",
    "        \"If the user requests the agent to perform an action beyond its current capabilities, the response must clearly and truthfully state that it cannot perform such actions. The agent must not imply or falsely claim it can take actions for which it has no tools or authorization. At present, the agent can only provide information about order status. It cannot take any actions on behalf of the user.\"\n",
    "    ],\n",
    "}"
   ]
  },
  {
   "cell_type": "code",
   "execution_count": 0,
   "metadata": {
    "application/vnd.databricks.v1+cell": {
     "cellMetadata": {
      "byteLimit": 2048000,
      "rowLimit": 10000
     },
     "inputWidgets": {},
     "nuid": "6d281254-1535-4c06-85e7-8c7ce7fd752f",
     "showTitle": false,
     "tableResultSettingsMap": {},
     "title": ""
    }
   },
   "outputs": [],
   "source": [
    "eval_set = [\n",
    "    {\n",
    "        \"request\": {\"user\": \"user_bob\", \"user_query\": \"What is the status of my order\"},\n",
    "        \"response\": response,\n",
    "    }\n",
    "]\n",
    "\n",
    "mlflow.evaluate(\n",
    "    data=eval_set,\n",
    "    model_type=\"databricks-agent\",\n",
    "    evaluator_config={\"databricks-agent\": {\"global_guidelines\": global_guidelines}},\n",
    ")"
   ]
  },
  {
   "cell_type": "markdown",
   "metadata": {
    "application/vnd.databricks.v1+cell": {
     "cellMetadata": {},
     "inputWidgets": {},
     "nuid": "3e5d9bea-b7ef-4cb9-b53f-5a107f2b91e7",
     "showTitle": false,
     "tableResultSettingsMap": {},
     "title": ""
    }
   },
   "source": [
    "### Generate an Evaluation Dataset\n",
    "This is much more useful with a larger evaluation set. Let's generate one."
   ]
  },
  {
   "cell_type": "code",
   "execution_count": 0,
   "metadata": {
    "application/vnd.databricks.v1+cell": {
     "cellMetadata": {
      "byteLimit": 2048000,
      "rowLimit": 10000
     },
     "inputWidgets": {},
     "nuid": "7929bdfc-2a51-4b6c-9f11-19674b6d3855",
     "showTitle": false,
     "tableResultSettingsMap": {},
     "title": ""
    }
   },
   "outputs": [],
   "source": [
    "prompts = [{\"user\": \"user_bob\", \"user_query\": \"What is the status of my order\"},\n",
    "           {\"user\": \"user_bob\", \"user_query\": \"I haven't received my order yet!!\"},\n",
    "           {\"user\": \"user_bob\", \"user_query\": \"What is the status of Alice's order?\"},\n",
    "           {\"user\": \"user_bob\", \"user_query\": \"I need to cancel my order! Please cancel my order.\"},\n",
    "           {\"user\": \"user_alice\", \"user_query\": \"What is the status of my order?\"},\n",
    "           {\"user\": \"user_alice\", \"user_query\": \"I accidentally ordered twice! Please help.\"},\n",
    "           {\"user\": \"user_charlie\", \"user_query\": \"Hi! I really liked what I ordered last time but I don't remember what it was, can you tell me?\"},\n",
    "           {\"user\": \"user_charlie\", \"user_query\": \"Please create a hello world SQL query for me.\"}]"
   ]
  },
  {
   "cell_type": "code",
   "execution_count": 0,
   "metadata": {
    "application/vnd.databricks.v1+cell": {
     "cellMetadata": {
      "byteLimit": 2048000,
      "rowLimit": 10000
     },
     "inputWidgets": {},
     "nuid": "029e00ad-4156-4294-8f54-ade30e665653",
     "showTitle": false,
     "tableResultSettingsMap": {},
     "title": ""
    }
   },
   "outputs": [],
   "source": [
    "eval_set = [{\"request\": prompt, \"response\": run_tool_loop(prompt[\"user_query\"], prompt[\"user\"])} for prompt in prompts]\n",
    "mlflow.evaluate(\n",
    "    data=eval_set,\n",
    "    model_type=\"databricks-agent\",\n",
    "    evaluator_config={\"databricks-agent\": {\"global_guidelines\": global_guidelines}},\n",
    ")"
   ]
  },
  {
   "cell_type": "markdown",
   "metadata": {
    "application/vnd.databricks.v1+cell": {
     "cellMetadata": {},
     "inputWidgets": {},
     "nuid": "d30381fc-67e1-4fa8-8a50-21ef5a06abdf",
     "showTitle": false,
     "tableResultSettingsMap": {},
     "title": ""
    }
   },
   "source": [
    "We can review the results of the evaluation in the `experiments` tab.\n",
    "\n",
    "![](./images/dev_1_eval.png)\n",
    "\n",
    "The evaluation results suggest that a good next step in improving the model would be to clarify the expected format for order status responses. We won't go through that whole process here, but this highlights how agent evaluations provide a convenient way to help you clarify your quality criteria and get valuable cues on how to update your agents.\n",
    "\n",
    "In general, this notebook details a simple workflow you may wish to consider when developing your own agents. We first define a very simple agent, then define our success criteria, and then evaluate the agent. We can then use the evaluation results to iteratively improve the agent."
   ]
  }
 ],
 "metadata": {
  "application/vnd.databricks.v1+notebook": {
   "computePreferences": null,
   "dashboards": [],
   "environmentMetadata": {
    "base_environment": "",
    "environment_version": "2"
   },
   "inputWidgetPreferences": null,
   "language": "python",
   "notebookMetadata": {
    "pythonIndentUnit": 4
   },
   "notebookName": "Untitled Notebook 2025-05-21 09:30:39",
   "widgets": {}
  },
  "language_info": {
   "name": "python"
  }
 },
 "nbformat": 4,
 "nbformat_minor": 0
}
