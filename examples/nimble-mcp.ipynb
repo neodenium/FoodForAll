{
 "cells": [
  {
   "cell_type": "markdown",
   "metadata": {
    "application/vnd.databricks.v1+cell": {
     "cellMetadata": {},
     "inputWidgets": {},
     "nuid": "ee56dbef-0a69-49dc-b17b-08633e0ca4e3",
     "showTitle": false,
     "tableResultSettingsMap": {},
     "title": ""
    }
   },
   "source": [
    "# Introduction\n",
    "\n",
    "This notebook is intended to show how to use [Nimble's remote MCP server](https://docs.nimbleway.com/ai-agents/mcp-server) with Databricks model serving via popular agent-authoring libraries (LangChain, LlamaIndex).\n",
    "\n",
    "By the end of this notebook, you will understand how to build and run simple agents that can use the tools accessible via Nimble's remote MCP server using LangChain and LlamaIndex.\n",
    "\n",
    "For more details on getting started using these frameworks with Databricks Model Serving, see the [Databricks Agent Library Integrations](databricks_agent_library_integrations.ipynb) notebook."
   ]
  },
  {
   "cell_type": "markdown",
   "metadata": {
    "application/vnd.databricks.v1+cell": {
     "cellMetadata": {},
     "inputWidgets": {},
     "nuid": "c0bbb4ea-e159-46ae-858c-11519e31a38f",
     "showTitle": false,
     "tableResultSettingsMap": {},
     "title": ""
    }
   },
   "source": [
    "## Using the Nimble MCP Server with a LangGraph Agent\n",
    "\n",
    "In this section, we'll show how to build an agent using LangChain/LangGraph that can access both Databricks-hosted LLMs and Nimble's external tools via the MCP server.\n",
    "\n",
    "We'll walk through:\n",
    "- Installing the required libraries\n",
    "- Authenticating with Databricks and Nimble\n",
    "- Creating an agent that can use both LLM and external tools\n",
    "- Running the agent on a real-world question\n",
    "\n",
    "### Setup"
   ]
  },
  {
   "cell_type": "code",
   "execution_count": 0,
   "metadata": {
    "application/vnd.databricks.v1+cell": {
     "cellMetadata": {
      "byteLimit": 2048000,
      "rowLimit": 10000
     },
     "inputWidgets": {},
     "nuid": "7a19e73c-7d2d-468b-9912-9f8835d6d925",
     "showTitle": false,
     "tableResultSettingsMap": {},
     "title": ""
    }
   },
   "outputs": [],
   "source": [
    "%pip install langchain-mcp-adapters mcp databricks-langchain langgraph langchain mlflow python-dotenv\n",
    "%restart_python"
   ]
  },
  {
   "cell_type": "markdown",
   "metadata": {
    "application/vnd.databricks.v1+cell": {
     "cellMetadata": {},
     "inputWidgets": {},
     "nuid": "807c6451-9f62-4155-9240-97bd5bb6f5ab",
     "showTitle": false,
     "tableResultSettingsMap": {},
     "title": ""
    }
   },
   "source": [
    "Now that we have installed the required packages, let's configure access to Databricks models and to the Nimble MCP server.\n",
    "\n",
    "In this example, we use a `.env` file and the `python-dotenv` package to load our Nimble API key (which you can obtain from your [Nimble account settings](https://app.nimbleway.com/account_settings/api_keys)). The `.env` file just has one line:\n",
    "\n",
    "```\n",
    "NIMBLE_API_KEY=<your nimble API key>\n",
    "```\n",
    "\n",
    "In the code block below, we also set up the `llm` with `ChatDatabricks` and the MCP client with LangChain's `MultiServerMCPClient` to access the Nimble MCP server. Lastly, we get the list of tools to pass to the agent using `client.get_tools()` and initialize the agent with `create_react_agent`, passing in the LLM and the list of tools."
   ]
  },
  {
   "cell_type": "code",
   "execution_count": 0,
   "metadata": {
    "application/vnd.databricks.v1+cell": {
     "cellMetadata": {
      "byteLimit": 2048000,
      "rowLimit": 10000
     },
     "inputWidgets": {},
     "nuid": "907ade8f-d271-4d26-8452-866fcdae70c0",
     "showTitle": false,
     "tableResultSettingsMap": {},
     "title": ""
    }
   },
   "outputs": [],
   "source": [
    "from langchain_mcp_adapters.client import MultiServerMCPClient\n",
    "from langgraph.prebuilt import create_react_agent\n",
    "from databricks_langchain import ChatDatabricks\n",
    "from databricks.sdk import WorkspaceClient\n",
    "import mlflow\n",
    "\n",
    "import os\n",
    "\n",
    "from dotenv import load_dotenv\n",
    "\n",
    "mlflow.langchain.autolog()\n",
    "\n",
    "load_dotenv()\n",
    "\n",
    "w = WorkspaceClient()\n",
    "\n",
    "os.environ[\"DATABRICKS_HOST\"] = w.config.host\n",
    "os.environ[\"DATABRICKS_TOKEN\"] = w.tokens.create(comment=\"for model serving\", lifetime_seconds=1200).token_value\n",
    "\n",
    "llm = ChatDatabricks(endpoint=\"databricks-meta-llama-3-3-70b-instruct\")\n",
    "\n",
    "\n",
    "client = MultiServerMCPClient({\n",
    "    \"nimble\": {\n",
    "        \"url\": \"https://mcp.nimbleway.com/sse\",\n",
    "        \"transport\": \"sse\",\n",
    "        \"headers\": {\n",
    "            \"Authorization\": f\"Bearer {os.environ['NIMBLE_API_KEY']}\"\n",
    "        }\n",
    "    }\n",
    "})\n",
    "\n",
    "tools = await client.get_tools()\n",
    "agent = create_react_agent(llm, tools)"
   ]
  },
  {
   "cell_type": "markdown",
   "metadata": {
    "application/vnd.databricks.v1+cell": {
     "cellMetadata": {},
     "inputWidgets": {},
     "nuid": "e2cd12d6-5443-44d1-b55e-afc0d5c4333a",
     "showTitle": false,
     "tableResultSettingsMap": {},
     "title": ""
    }
   },
   "source": [
    "### Running the agent\n",
    "\n",
    "We can call on the agent with `await agent.ainvoke()`, passing in a list of messages. Note that, to use the tools from the MCP server, we need to use the asynchronous method `ainvoke`; this will not work with the synchronous `invoke` method."
   ]
  },
  {
   "cell_type": "code",
   "execution_count": 0,
   "metadata": {
    "application/vnd.databricks.v1+cell": {
     "cellMetadata": {
      "byteLimit": 2048000,
      "rowLimit": 10000
     },
     "inputWidgets": {},
     "nuid": "cd1b5797-2e00-4d9b-983f-5097df638dc2",
     "showTitle": false,
     "tableResultSettingsMap": {},
     "title": ""
    }
   },
   "outputs": [],
   "source": [
    "await agent.ainvoke({\"messages\": [{\"role\": \"user\", \"content\": \"What is the best Ethiopian restaurant on the northside of Chicago?\"}]})"
   ]
  },
  {
   "cell_type": "markdown",
   "metadata": {
    "application/vnd.databricks.v1+cell": {
     "cellMetadata": {},
     "inputWidgets": {},
     "nuid": "dac786b8-d22b-4bf5-9830-f3feb5a8236b",
     "showTitle": false,
     "tableResultSettingsMap": {},
     "title": ""
    }
   },
   "source": [
    "We can use Nimble's web extraction tool to teach us a little more about the tools available through Nimble's MCP server."
   ]
  },
  {
   "cell_type": "code",
   "execution_count": 0,
   "metadata": {
    "application/vnd.databricks.v1+cell": {
     "cellMetadata": {
      "byteLimit": 2048000,
      "rowLimit": 10000
     },
     "inputWidgets": {},
     "nuid": "3f4dafc9-e6b4-41b4-9da6-120dd58fd5d1",
     "showTitle": false,
     "tableResultSettingsMap": {},
     "title": ""
    }
   },
   "outputs": [],
   "source": [
    "await agent.ainvoke({\"messages\": [{\"role\": \"user\", \"content\": \"Create a table of the tools detailed here https://docs.nimbleway.com/ai-agents/mcp-server/available-tools and their descriptions using your web extraction tool\"}]})"
   ]
  },
  {
   "cell_type": "markdown",
   "metadata": {
    "application/vnd.databricks.v1+cell": {
     "cellMetadata": {},
     "inputWidgets": {},
     "nuid": "12ff8ede-8086-4ac6-9e84-44c4b43f7e52",
     "showTitle": false,
     "tableResultSettingsMap": {},
     "title": ""
    }
   },
   "source": [
    "## Using the Nimble MCP Server with a LlamaIndex agent\n",
    "\n",
    "In this section, we'll work through essentially the same process as above, but using LlamaIndex instead of LangChain. As before, we will obtain the tools from the MCP server and use them to build an agent. Our Nimble API key will, again, be loaded from a `.env` file.\n"
   ]
  },
  {
   "cell_type": "markdown",
   "metadata": {
    "application/vnd.databricks.v1+cell": {
     "cellMetadata": {},
     "inputWidgets": {},
     "nuid": "adc7fb72-61d3-41a1-add7-27607a1d9ed8",
     "showTitle": false,
     "tableResultSettingsMap": {},
     "title": ""
    }
   },
   "source": [
    "### Setup\n"
   ]
  },
  {
   "cell_type": "code",
   "execution_count": 0,
   "metadata": {
    "application/vnd.databricks.v1+cell": {
     "cellMetadata": {
      "byteLimit": 2048000,
      "rowLimit": 10000
     },
     "inputWidgets": {},
     "nuid": "61ce60c1-bec6-4902-8b5e-7021de7c5c76",
     "showTitle": false,
     "tableResultSettingsMap": {},
     "title": ""
    }
   },
   "outputs": [],
   "source": [
    "%pip install -U -qqq llama-index llama-index-llms-databricks mlflow python-dotenv llama-index-tools-mcp\n",
    "%restart_python"
   ]
  },
  {
   "cell_type": "code",
   "execution_count": 0,
   "metadata": {
    "application/vnd.databricks.v1+cell": {
     "cellMetadata": {
      "byteLimit": 2048000,
      "rowLimit": 10000
     },
     "inputWidgets": {},
     "nuid": "1951f802-c149-45dc-a49c-fc68452e183d",
     "showTitle": false,
     "tableResultSettingsMap": {},
     "title": ""
    }
   },
   "outputs": [],
   "source": [
    "from llama_index.llms.databricks import Databricks\n",
    "from databricks.sdk import WorkspaceClient\n",
    "import mlflow\n",
    "\n",
    "w = WorkspaceClient()\n",
    "\n",
    "tmp_token = w.tokens.create(comment=\"for model serving\", lifetime_seconds=1200).token_value\n",
    "\n",
    "llm = Databricks(\n",
    "    model=\"databricks-llama-4-maverick\",\n",
    "    api_key=tmp_token,\n",
    "    api_base=f\"{w.config.host}/serving-endpoints/\"\n",
    ")"
   ]
  },
  {
   "cell_type": "markdown",
   "metadata": {
    "application/vnd.databricks.v1+cell": {
     "cellMetadata": {},
     "inputWidgets": {},
     "nuid": "ed7753ab-18c0-4691-b458-babf13b3e208",
     "showTitle": false,
     "tableResultSettingsMap": {},
     "title": ""
    }
   },
   "source": [
    "We will use the LlamaIndex `BasicMCPClient` to get the list of tools from the MCP server and create a `McpToolSpec` object. We can then convert this to a list of tools using the `to_tool_list_async` method."
   ]
  },
  {
   "cell_type": "code",
   "execution_count": 0,
   "metadata": {
    "application/vnd.databricks.v1+cell": {
     "cellMetadata": {
      "byteLimit": 2048000,
      "rowLimit": 10000
     },
     "inputWidgets": {},
     "nuid": "9e8107a4-eb37-4e86-aca3-ccfab0883597",
     "showTitle": false,
     "tableResultSettingsMap": {},
     "title": ""
    }
   },
   "outputs": [],
   "source": [
    "from dotenv import load_dotenv\n",
    "from llama_index.tools.mcp import BasicMCPClient, McpToolSpec\n",
    "import os\n",
    "\n",
    "load_dotenv()\n",
    "\n",
    "async def setup_nimble_tools():\n",
    "    mcp_client = BasicMCPClient(\n",
    "        \"https://mcp.nimbleway.com/sse\",\n",
    "        headers={\"Authorization\": f\"Bearer {os.environ['NIMBLE_API_KEY']}\"}\n",
    "    )\n",
    "    \n",
    "    mcp_tool_spec = McpToolSpec(\n",
    "        client=mcp_client,\n",
    "        # Optional: filter to specific tools\n",
    "        # allowed_tools=[\"nimble_web_search\", \"nimble_google_maps_search\"]\n",
    "    )\n",
    "    \n",
    "    tools = await mcp_tool_spec.to_tool_list_async()\n",
    "    \n",
    "    print(f\"Loaded {len(tools)} Nimble tools:\")\n",
    "    for tool in tools:\n",
    "        print(f\"- {tool.metadata.name}: {tool.metadata.description}\")\n",
    "    \n",
    "    return tools\n",
    "\n",
    "# Get the tools\n",
    "nimble_tools = await setup_nimble_tools()\n",
    "nimble_tools"
   ]
  },
  {
   "cell_type": "markdown",
   "metadata": {
    "application/vnd.databricks.v1+cell": {
     "cellMetadata": {},
     "inputWidgets": {},
     "nuid": "66210659-293b-491c-9013-19af53a8001e",
     "showTitle": false,
     "tableResultSettingsMap": {},
     "title": ""
    }
   },
   "source": [
    "We will use the LlamaIndex `ReActAgent` to build our agent. We pass in the list of tools, the LLM, and a system prompt."
   ]
  },
  {
   "cell_type": "code",
   "execution_count": 0,
   "metadata": {
    "application/vnd.databricks.v1+cell": {
     "cellMetadata": {
      "byteLimit": 2048000,
      "rowLimit": 10000
     },
     "inputWidgets": {},
     "nuid": "cbaf7c4e-283e-4fa3-ac01-6dcc67e474d3",
     "showTitle": false,
     "tableResultSettingsMap": {},
     "title": ""
    }
   },
   "outputs": [],
   "source": [
    "from llama_index.core.agent.workflow import ReActAgent\n",
    "\n",
    "agent = ReActAgent(\n",
    "    tools=nimble_tools,\n",
    "    llm=llm,\n",
    "    system_prompt=\"\"\"You are a helpful research assistant with access to web scraping and data collection tools. \n",
    "    Always explain your answer in the final output. Tell the user which tools you used and how you found the information.\"\"\",\n",
    ")"
   ]
  },
  {
   "cell_type": "markdown",
   "metadata": {
    "application/vnd.databricks.v1+cell": {
     "cellMetadata": {},
     "inputWidgets": {},
     "nuid": "ed4f1518-adf1-40a7-949c-e72d4120d76f",
     "showTitle": false,
     "tableResultSettingsMap": {},
     "title": ""
    }
   },
   "source": [
    "### Running the agent\n",
    "\n",
    "We can run the agent with `await agent.run()`, passing in a question.\n"
   ]
  },
  {
   "cell_type": "code",
   "execution_count": 0,
   "metadata": {
    "application/vnd.databricks.v1+cell": {
     "cellMetadata": {
      "byteLimit": 2048000,
      "rowLimit": 10000
     },
     "inputWidgets": {},
     "nuid": "58f0fc11-4221-4f11-a020-424ce6291516",
     "showTitle": false,
     "tableResultSettingsMap": {},
     "title": ""
    }
   },
   "outputs": [],
   "source": [
    "mlflow.llama_index.autolog()\n",
    "await agent.run(\"What is the best Ethiopian restaurant in Uptown Chicago?\")"
   ]
  }
 ],
 "metadata": {
  "application/vnd.databricks.v1+notebook": {
   "computePreferences": null,
   "dashboards": [],
   "environmentMetadata": {
    "base_environment": "",
    "environment_version": "2"
   },
   "inputWidgetPreferences": null,
   "language": "python",
   "notebookMetadata": {
    "pythonIndentUnit": 4
   },
   "notebookName": "nimble-mcp",
   "widgets": {}
  },
  "language_info": {
   "name": "python"
  }
 },
 "nbformat": 4,
 "nbformat_minor": 0
}
